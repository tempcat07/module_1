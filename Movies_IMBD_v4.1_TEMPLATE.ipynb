{
 "cells": [
  {
   "cell_type": "code",
   "execution_count": 103,
   "metadata": {
    "_cell_guid": "b1076dfc-b9ad-4769-8c92-a6c4dae69d19",
    "_uuid": "8f2839f25d086af736a60e9eeb907d3b93b6e0e5",
    "colab": {},
    "colab_type": "code",
    "id": "U2D2gTdJVp90"
   },
   "outputs": [],
   "source": [
    "import numpy as np\n",
    "import pandas as pd\n",
    "import seaborn as sns\n",
    "import matplotlib.pyplot as plt\n",
    "from collections import Counter"
   ]
  },
  {
   "cell_type": "code",
   "execution_count": 104,
   "metadata": {
    "_cell_guid": "79c7e3d0-c299-4dcb-8224-4455121ee9b0",
    "_uuid": "d629ff2d2480ee46fbb7e2d37f6b5fab8052498a",
    "colab": {},
    "colab_type": "code",
    "id": "oyGfxL3eVp9-"
   },
   "outputs": [
    {
     "data": {
      "text/html": [
       "<div>\n",
       "<style scoped>\n",
       "    .dataframe tbody tr th:only-of-type {\n",
       "        vertical-align: middle;\n",
       "    }\n",
       "\n",
       "    .dataframe tbody tr th {\n",
       "        vertical-align: top;\n",
       "    }\n",
       "\n",
       "    .dataframe thead th {\n",
       "        text-align: right;\n",
       "    }\n",
       "</style>\n",
       "<table border=\"1\" class=\"dataframe\">\n",
       "  <thead>\n",
       "    <tr style=\"text-align: right;\">\n",
       "      <th></th>\n",
       "      <th>imdb_id</th>\n",
       "      <th>budget</th>\n",
       "      <th>revenue</th>\n",
       "      <th>original_title</th>\n",
       "      <th>cast</th>\n",
       "      <th>director</th>\n",
       "      <th>tagline</th>\n",
       "      <th>overview</th>\n",
       "      <th>runtime</th>\n",
       "      <th>genres</th>\n",
       "      <th>production_companies</th>\n",
       "      <th>release_date</th>\n",
       "      <th>vote_average</th>\n",
       "      <th>release_year</th>\n",
       "    </tr>\n",
       "  </thead>\n",
       "  <tbody>\n",
       "    <tr>\n",
       "      <th>1058</th>\n",
       "      <td>tt1535438</td>\n",
       "      <td>30000000</td>\n",
       "      <td>114281051</td>\n",
       "      <td>Hope Springs</td>\n",
       "      <td>Meryl Streep|Steve Carell|Tommy Lee Jones|Jean...</td>\n",
       "      <td>David Frankel</td>\n",
       "      <td>Sometimes to keep the magic, you need to learn...</td>\n",
       "      <td>After thirty years of marriage, a middle-aged ...</td>\n",
       "      <td>100</td>\n",
       "      <td>Drama|Comedy|Romance</td>\n",
       "      <td>Columbia Pictures|Mandate Pictures|Escape Arti...</td>\n",
       "      <td>8/7/2012</td>\n",
       "      <td>5.6</td>\n",
       "      <td>2012</td>\n",
       "    </tr>\n",
       "    <tr>\n",
       "      <th>400</th>\n",
       "      <td>tt0989757</td>\n",
       "      <td>25000000</td>\n",
       "      <td>114977104</td>\n",
       "      <td>Dear John</td>\n",
       "      <td>Amanda Seyfried|Channing Tatum|Henry Thomas|Ri...</td>\n",
       "      <td>Lasse HallstrÃ¶m</td>\n",
       "      <td>Love brought them together will fate tear them...</td>\n",
       "      <td>Sergeant John Tyree is home on a 2 week leave ...</td>\n",
       "      <td>115</td>\n",
       "      <td>Drama|Romance|War</td>\n",
       "      <td>Screen Gems</td>\n",
       "      <td>2/4/2010</td>\n",
       "      <td>6.5</td>\n",
       "      <td>2010</td>\n",
       "    </tr>\n",
       "    <tr>\n",
       "      <th>648</th>\n",
       "      <td>tt1125849</td>\n",
       "      <td>6000000</td>\n",
       "      <td>44703995</td>\n",
       "      <td>The Wrestler</td>\n",
       "      <td>Mickey Rourke|Marisa Tomei|Evan Rachel Wood|Aj...</td>\n",
       "      <td>Darren Aronofsky</td>\n",
       "      <td>Love. Pain. Glory.</td>\n",
       "      <td>Aging wrestler Randy \"The Ram\" Robinson is lon...</td>\n",
       "      <td>109</td>\n",
       "      <td>Drama|Romance</td>\n",
       "      <td>Saturn Films|Wild Bunch|Protozoa Pictures|Top ...</td>\n",
       "      <td>9/7/2008</td>\n",
       "      <td>7.0</td>\n",
       "      <td>2008</td>\n",
       "    </tr>\n",
       "    <tr>\n",
       "      <th>1577</th>\n",
       "      <td>tt0318627</td>\n",
       "      <td>45000000</td>\n",
       "      <td>129394835</td>\n",
       "      <td>Resident Evil: Apocalypse</td>\n",
       "      <td>Milla Jovovich|Sienna Guillory|Oded Fehr|Thoma...</td>\n",
       "      <td>Alexander Witt</td>\n",
       "      <td>You're all going to die.</td>\n",
       "      <td>As the city is locked down under quarantine, A...</td>\n",
       "      <td>94</td>\n",
       "      <td>Horror|Action|Science Fiction</td>\n",
       "      <td>Impact Pictures|Constantin Film Ltd.</td>\n",
       "      <td>9/10/2004</td>\n",
       "      <td>6.1</td>\n",
       "      <td>2004</td>\n",
       "    </tr>\n",
       "    <tr>\n",
       "      <th>1218</th>\n",
       "      <td>tt1288558</td>\n",
       "      <td>17000000</td>\n",
       "      <td>97542952</td>\n",
       "      <td>Evil Dead</td>\n",
       "      <td>Jane Levy|Jessica Lucas|Shiloh Fernandez|Lou T...</td>\n",
       "      <td>Fede Alvarez</td>\n",
       "      <td>The most terrifying film you will ever experie...</td>\n",
       "      <td>Evil Dead, the fourth installment of the Evil ...</td>\n",
       "      <td>91</td>\n",
       "      <td>Horror</td>\n",
       "      <td>TriStar Pictures|Ghost House Pictures|FilmDist...</td>\n",
       "      <td>4/5/2013</td>\n",
       "      <td>6.3</td>\n",
       "      <td>2013</td>\n",
       "    </tr>\n",
       "  </tbody>\n",
       "</table>\n",
       "</div>"
      ],
      "text/plain": [
       "        imdb_id    budget    revenue             original_title  \\\n",
       "1058  tt1535438  30000000  114281051               Hope Springs   \n",
       "400   tt0989757  25000000  114977104                  Dear John   \n",
       "648   tt1125849   6000000   44703995               The Wrestler   \n",
       "1577  tt0318627  45000000  129394835  Resident Evil: Apocalypse   \n",
       "1218  tt1288558  17000000   97542952                  Evil Dead   \n",
       "\n",
       "                                                   cast          director  \\\n",
       "1058  Meryl Streep|Steve Carell|Tommy Lee Jones|Jean...     David Frankel   \n",
       "400   Amanda Seyfried|Channing Tatum|Henry Thomas|Ri...  Lasse HallstrÃ¶m   \n",
       "648   Mickey Rourke|Marisa Tomei|Evan Rachel Wood|Aj...  Darren Aronofsky   \n",
       "1577  Milla Jovovich|Sienna Guillory|Oded Fehr|Thoma...    Alexander Witt   \n",
       "1218  Jane Levy|Jessica Lucas|Shiloh Fernandez|Lou T...      Fede Alvarez   \n",
       "\n",
       "                                                tagline  \\\n",
       "1058  Sometimes to keep the magic, you need to learn...   \n",
       "400   Love brought them together will fate tear them...   \n",
       "648                                  Love. Pain. Glory.   \n",
       "1577                           You're all going to die.   \n",
       "1218  The most terrifying film you will ever experie...   \n",
       "\n",
       "                                               overview  runtime  \\\n",
       "1058  After thirty years of marriage, a middle-aged ...      100   \n",
       "400   Sergeant John Tyree is home on a 2 week leave ...      115   \n",
       "648   Aging wrestler Randy \"The Ram\" Robinson is lon...      109   \n",
       "1577  As the city is locked down under quarantine, A...       94   \n",
       "1218  Evil Dead, the fourth installment of the Evil ...       91   \n",
       "\n",
       "                             genres  \\\n",
       "1058           Drama|Comedy|Romance   \n",
       "400               Drama|Romance|War   \n",
       "648                   Drama|Romance   \n",
       "1577  Horror|Action|Science Fiction   \n",
       "1218                         Horror   \n",
       "\n",
       "                                   production_companies release_date  \\\n",
       "1058  Columbia Pictures|Mandate Pictures|Escape Arti...     8/7/2012   \n",
       "400                                         Screen Gems     2/4/2010   \n",
       "648   Saturn Films|Wild Bunch|Protozoa Pictures|Top ...     9/7/2008   \n",
       "1577               Impact Pictures|Constantin Film Ltd.    9/10/2004   \n",
       "1218  TriStar Pictures|Ghost House Pictures|FilmDist...     4/5/2013   \n",
       "\n",
       "      vote_average  release_year  \n",
       "1058           5.6          2012  \n",
       "400            6.5          2010  \n",
       "648            7.0          2008  \n",
       "1577           6.1          2004  \n",
       "1218           6.3          2013  "
      ]
     },
     "execution_count": 104,
     "metadata": {},
     "output_type": "execute_result"
    }
   ],
   "source": [
    "data = pd.read_csv('movie_bd_v5.csv')\n",
    "data.sample(5)"
   ]
  },
  {
   "cell_type": "code",
   "execution_count": 105,
   "metadata": {
    "colab": {},
    "colab_type": "code",
    "id": "CoYUnagMVp-C"
   },
   "outputs": [
    {
     "data": {
      "text/html": [
       "<div>\n",
       "<style scoped>\n",
       "    .dataframe tbody tr th:only-of-type {\n",
       "        vertical-align: middle;\n",
       "    }\n",
       "\n",
       "    .dataframe tbody tr th {\n",
       "        vertical-align: top;\n",
       "    }\n",
       "\n",
       "    .dataframe thead th {\n",
       "        text-align: right;\n",
       "    }\n",
       "</style>\n",
       "<table border=\"1\" class=\"dataframe\">\n",
       "  <thead>\n",
       "    <tr style=\"text-align: right;\">\n",
       "      <th></th>\n",
       "      <th>budget</th>\n",
       "      <th>revenue</th>\n",
       "      <th>runtime</th>\n",
       "      <th>vote_average</th>\n",
       "      <th>release_year</th>\n",
       "    </tr>\n",
       "  </thead>\n",
       "  <tbody>\n",
       "    <tr>\n",
       "      <th>count</th>\n",
       "      <td>1.889000e+03</td>\n",
       "      <td>1.889000e+03</td>\n",
       "      <td>1889.000000</td>\n",
       "      <td>1889.000000</td>\n",
       "      <td>1889.000000</td>\n",
       "    </tr>\n",
       "    <tr>\n",
       "      <th>mean</th>\n",
       "      <td>5.431083e+07</td>\n",
       "      <td>1.553653e+08</td>\n",
       "      <td>109.658549</td>\n",
       "      <td>6.140762</td>\n",
       "      <td>2007.860773</td>\n",
       "    </tr>\n",
       "    <tr>\n",
       "      <th>std</th>\n",
       "      <td>4.858721e+07</td>\n",
       "      <td>2.146698e+08</td>\n",
       "      <td>18.017041</td>\n",
       "      <td>0.764763</td>\n",
       "      <td>4.468841</td>\n",
       "    </tr>\n",
       "    <tr>\n",
       "      <th>min</th>\n",
       "      <td>5.000000e+06</td>\n",
       "      <td>2.033165e+06</td>\n",
       "      <td>63.000000</td>\n",
       "      <td>3.300000</td>\n",
       "      <td>2000.000000</td>\n",
       "    </tr>\n",
       "    <tr>\n",
       "      <th>25%</th>\n",
       "      <td>2.000000e+07</td>\n",
       "      <td>3.456058e+07</td>\n",
       "      <td>97.000000</td>\n",
       "      <td>5.600000</td>\n",
       "      <td>2004.000000</td>\n",
       "    </tr>\n",
       "    <tr>\n",
       "      <th>50%</th>\n",
       "      <td>3.800000e+07</td>\n",
       "      <td>8.361541e+07</td>\n",
       "      <td>107.000000</td>\n",
       "      <td>6.100000</td>\n",
       "      <td>2008.000000</td>\n",
       "    </tr>\n",
       "    <tr>\n",
       "      <th>75%</th>\n",
       "      <td>7.200000e+07</td>\n",
       "      <td>1.782626e+08</td>\n",
       "      <td>120.000000</td>\n",
       "      <td>6.600000</td>\n",
       "      <td>2012.000000</td>\n",
       "    </tr>\n",
       "    <tr>\n",
       "      <th>max</th>\n",
       "      <td>3.800000e+08</td>\n",
       "      <td>2.781506e+09</td>\n",
       "      <td>214.000000</td>\n",
       "      <td>8.100000</td>\n",
       "      <td>2015.000000</td>\n",
       "    </tr>\n",
       "  </tbody>\n",
       "</table>\n",
       "</div>"
      ],
      "text/plain": [
       "             budget       revenue      runtime  vote_average  release_year\n",
       "count  1.889000e+03  1.889000e+03  1889.000000   1889.000000   1889.000000\n",
       "mean   5.431083e+07  1.553653e+08   109.658549      6.140762   2007.860773\n",
       "std    4.858721e+07  2.146698e+08    18.017041      0.764763      4.468841\n",
       "min    5.000000e+06  2.033165e+06    63.000000      3.300000   2000.000000\n",
       "25%    2.000000e+07  3.456058e+07    97.000000      5.600000   2004.000000\n",
       "50%    3.800000e+07  8.361541e+07   107.000000      6.100000   2008.000000\n",
       "75%    7.200000e+07  1.782626e+08   120.000000      6.600000   2012.000000\n",
       "max    3.800000e+08  2.781506e+09   214.000000      8.100000   2015.000000"
      ]
     },
     "execution_count": 105,
     "metadata": {},
     "output_type": "execute_result"
    }
   ],
   "source": [
    "data.describe()"
   ]
  },
  {
   "cell_type": "markdown",
   "metadata": {
    "colab_type": "text",
    "id": "DTIt7ezGVp-G"
   },
   "source": [
    "# Предобработка"
   ]
  },
  {
   "cell_type": "code",
   "execution_count": 106,
   "metadata": {
    "colab": {},
    "colab_type": "code",
    "id": "jNb40DwKVp-H"
   },
   "outputs": [],
   "source": [
    "answers = {} # создадим словарь для ответов\n",
    "\n",
    "# тут другие ваши предобработки колонок например:\n",
    "\n",
    "#the time given in the dataset is in string format.\n",
    "#So we need to change this in datetime format\n",
    "# ..."
   ]
  },
  {
   "cell_type": "markdown",
   "metadata": {
    "colab_type": "text",
    "id": "YxZaH-nPVp-L"
   },
   "source": [
    "# 1. У какого фильма из списка самый большой бюджет?"
   ]
  },
  {
   "cell_type": "markdown",
   "metadata": {
    "colab_type": "text",
    "id": "Nd-G5gX6Vp-M"
   },
   "source": [
    "Использовать варианты ответов в коде решения запрещено.    \n",
    "Вы думаете и в жизни у вас будут варианты ответов?)"
   ]
  },
  {
   "cell_type": "code",
   "execution_count": 107,
   "metadata": {
    "colab": {},
    "colab_type": "code",
    "id": "uVnXAY5RVp-O"
   },
   "outputs": [],
   "source": [
    "# в словарь вставляем номер вопроса и ваш ответ на него\n",
    "# Пример: \n",
    "answers['1'] = '2. Spider-Man 3 (tt0413300)'\n",
    "# запишите свой вариант ответа\n",
    "answers['1'] = '...'\n",
    "# если ответили верно, можете добавить комментарий со значком \"+\""
   ]
  },
  {
   "cell_type": "code",
   "execution_count": 108,
   "metadata": {
    "colab": {},
    "colab_type": "code",
    "id": "dZwb3m28Vp-S"
   },
   "outputs": [
    {
     "data": {
      "text/html": [
       "<div>\n",
       "<style scoped>\n",
       "    .dataframe tbody tr th:only-of-type {\n",
       "        vertical-align: middle;\n",
       "    }\n",
       "\n",
       "    .dataframe tbody tr th {\n",
       "        vertical-align: top;\n",
       "    }\n",
       "\n",
       "    .dataframe thead th {\n",
       "        text-align: right;\n",
       "    }\n",
       "</style>\n",
       "<table border=\"1\" class=\"dataframe\">\n",
       "  <thead>\n",
       "    <tr style=\"text-align: right;\">\n",
       "      <th></th>\n",
       "      <th>original_title</th>\n",
       "      <th>imdb_id</th>\n",
       "      <th>budget</th>\n",
       "    </tr>\n",
       "  </thead>\n",
       "  <tbody>\n",
       "    <tr>\n",
       "      <th>723</th>\n",
       "      <td>Pirates of the Caribbean: On Stranger Tides</td>\n",
       "      <td>tt1298650</td>\n",
       "      <td>380000000</td>\n",
       "    </tr>\n",
       "  </tbody>\n",
       "</table>\n",
       "</div>"
      ],
      "text/plain": [
       "                                  original_title    imdb_id     budget\n",
       "723  Pirates of the Caribbean: On Stranger Tides  tt1298650  380000000"
      ]
     },
     "metadata": {},
     "output_type": "display_data"
    }
   ],
   "source": [
    "mdata = data[['original_title', 'imdb_id' ,'budget']] #делаем выборку и создаем дата фрейм из ID , названия и бюджета\n",
    "\n",
    "display(mdata[data.budget == data.budget.max()]) #делаем срез по максимальному (max) бюджету (budget)\n",
    "\n",
    "answers['1'] = '5. Pirates of the Caribbean: On Stranger Tides (tt1298650)'"
   ]
  },
  {
   "cell_type": "markdown",
   "metadata": {
    "colab_type": "text",
    "id": "K7L3nbRXVp-X"
   },
   "source": [
    "ВАРИАНТ 2"
   ]
  },
  {
   "cell_type": "code",
   "execution_count": 109,
   "metadata": {
    "colab": {},
    "colab_type": "code",
    "id": "OGaoQI7rVp-X"
   },
   "outputs": [
    {
     "name": "stdout",
     "output_type": "stream",
     "text": [
      "                                  original_title    imdb_id\n",
      "723  Pirates of the Caribbean: On Stranger Tides  tt1298650\n"
     ]
    }
   ],
   "source": [
    "#если выборку и срез поменять местами\n",
    "mdata = data[data.budget ==data.budget.max()]\n",
    "print(mdata[['original_title', 'imdb_id']])"
   ]
  },
  {
   "cell_type": "markdown",
   "metadata": {
    "colab_type": "text",
    "id": "FNRbbI3vVp-c"
   },
   "source": [
    "# 2. Какой из фильмов самый длительный (в минутах)?"
   ]
  },
  {
   "cell_type": "code",
   "execution_count": 110,
   "metadata": {
    "colab": {},
    "colab_type": "code",
    "id": "vHAoEXNTVp-d"
   },
   "outputs": [],
   "source": [
    "# думаю логику работы с этим словарем вы уже поняли, \n",
    "# по этому не буду больше его дублировать\n",
    "#answers['2'] = '...'"
   ]
  },
  {
   "cell_type": "code",
   "execution_count": 111,
   "metadata": {
    "colab": {},
    "colab_type": "code",
    "id": "ot-VX2XrVp-g"
   },
   "outputs": [
    {
     "name": "stdout",
     "output_type": "stream",
     "text": [
      "1157    Gods and Generals (tt0279111)\n",
      "dtype: object\n"
     ]
    }
   ],
   "source": [
    "#алгоритм получения среза аналогичен  вопросу 1\n",
    "mdata = data[data.runtime == data.runtime.max()]\n",
    "print((mdata['original_title'])+ ' ('+ mdata['imdb_id']+ ')')\n",
    "answers['2'] = '2. Gods and Generals (tt0279111)'"
   ]
  },
  {
   "cell_type": "markdown",
   "metadata": {
    "colab_type": "text",
    "id": "bapLlpW8Vp-k"
   },
   "source": [
    "# 3. Какой из фильмов самый короткий (в минутах)?\n",
    "\n",
    "\n",
    "\n"
   ]
  },
  {
   "cell_type": "code",
   "execution_count": 112,
   "metadata": {
    "colab": {},
    "colab_type": "code",
    "id": "YBxaSHuAVp-l"
   },
   "outputs": [
    {
     "name": "stdout",
     "output_type": "stream",
     "text": [
      "768    Winnie the Pooh (tt1449283)\n",
      "dtype: object\n"
     ]
    }
   ],
   "source": [
    "mdata = data[data.runtime == data.runtime.min()]\n",
    "print((mdata['original_title'])+ ' ('+ mdata['imdb_id']+ ')')\n",
    "answers['3'] = '3. Winnie the Pooh (tt1449283)'"
   ]
  },
  {
   "cell_type": "markdown",
   "metadata": {
    "colab_type": "text",
    "id": "TfQbxbfNVp-p"
   },
   "source": [
    "# 4. Какова средняя длительность фильмов?\n"
   ]
  },
  {
   "cell_type": "code",
   "execution_count": 113,
   "metadata": {
    "colab": {},
    "colab_type": "code",
    "id": "5K6dKZYVVp-q"
   },
   "outputs": [],
   "source": [
    "round(data.runtime.mean()) #\n",
    "answers['4'] = '2. 110'"
   ]
  },
  {
   "cell_type": "markdown",
   "metadata": {
    "colab_type": "text",
    "id": "r5TvbnT_Vp-u"
   },
   "source": [
    "# 5. Каково медианное значение длительности фильмов? "
   ]
  },
  {
   "cell_type": "code",
   "execution_count": 148,
   "metadata": {
    "colab": {},
    "colab_type": "code",
    "id": "iBROplKnVp-v"
   },
   "outputs": [],
   "source": [
    "round(data.runtime.median())\n",
    "answers['5'] = '1. 107'"
   ]
  },
  {
   "cell_type": "markdown",
   "metadata": {
    "colab_type": "text",
    "id": "39P-deDSVp-y"
   },
   "source": [
    "# 6. Какой самый прибыльный фильм?\n",
    "#### Внимание! Здесь и далее под «прибылью» или «убытками» понимается разность между сборами и бюджетом фильма. (прибыль = сборы - бюджет) в нашем датасете это будет (profit = revenue - budget) "
   ]
  },
  {
   "cell_type": "code",
   "execution_count": 115,
   "metadata": {
    "colab": {},
    "colab_type": "code",
    "id": "UYZh4T9WVp-y"
   },
   "outputs": [
    {
     "name": "stdout",
     "output_type": "stream",
     "text": [
      "239    Avatar (tt0499549)\n",
      "dtype: object\n"
     ]
    }
   ],
   "source": [
    "# лучше код получения столбца profit вынести в Предобработку что в начале\n",
    "pdata = data.copy()\n",
    "pdata['profit']=pdata['revenue']-pdata['budget'] #добавим столбец 'profit'\n",
    "mdata = pdata[pdata.profit == pdata.profit.max()]\n",
    "print((mdata['original_title'])+ ' ('+ mdata['imdb_id']+ ')')\n",
    "answers['6'] = '5. Avatar (tt0499549)'"
   ]
  },
  {
   "cell_type": "markdown",
   "metadata": {
    "colab_type": "text",
    "id": "M99JmIX4Vp-2"
   },
   "source": [
    "# 7. Какой фильм самый убыточный? "
   ]
  },
  {
   "cell_type": "code",
   "execution_count": 116,
   "metadata": {
    "colab": {},
    "colab_type": "code",
    "id": "w-D2m4XPVp-3"
   },
   "outputs": [
    {
     "name": "stdout",
     "output_type": "stream",
     "text": [
      "1245    The Lone Ranger (tt1210819)\n",
      "dtype: object\n"
     ]
    }
   ],
   "source": [
    "\n",
    "pdata = data.copy()\n",
    "pdata['profit']=pdata['revenue']-pdata['budget'] #добавим столбец 'profit'\n",
    "mdata = pdata[pdata.profit == pdata.profit.min()]\n",
    "print((mdata['original_title'])+ ' ('+ mdata['imdb_id']+ ')')\n",
    "answers['7'] = '5. The Lone Ranger (tt1210819)'"
   ]
  },
  {
   "cell_type": "markdown",
   "metadata": {
    "colab_type": "text",
    "id": "wEOM5ERVVp-6"
   },
   "source": [
    "# 8. У скольких фильмов из датасета объем сборов оказался выше бюджета?"
   ]
  },
  {
   "cell_type": "code",
   "execution_count": 117,
   "metadata": {
    "colab": {},
    "colab_type": "code",
    "id": "y00_7HD6Vp-7"
   },
   "outputs": [
    {
     "name": "stdout",
     "output_type": "stream",
     "text": [
      "1478\n"
     ]
    }
   ],
   "source": [
    "pdata = data.copy()\n",
    "pdata['profit']=pdata['revenue']-pdata['budget'] #добавим столбец 'profit'\n",
    "print(len(pdata[pdata.profit > 0].index))        #вычисляем количество зачений индексов фильмов с положительными сборами\n",
    "answers['8'] = '1. 1478'"
   ]
  },
  {
   "cell_type": "markdown",
   "metadata": {
    "colab_type": "text",
    "id": "xhpspA9KVp_A"
   },
   "source": [
    "# 9. Какой фильм оказался самым кассовым в 2008 году?"
   ]
  },
  {
   "cell_type": "code",
   "execution_count": 118,
   "metadata": {
    "colab": {},
    "colab_type": "code",
    "id": "MoUyQr9RVp_B"
   },
   "outputs": [
    {
     "name": "stdout",
     "output_type": "stream",
     "text": [
      "599    The Dark Knight (tt0468569)\n",
      "dtype: object\n"
     ]
    }
   ],
   "source": [
    "mdata = data[data.revenue == data[data.release_year == 2008].revenue.max()] #срез\n",
    "print((mdata['original_title'])+ ' ('+ mdata['imdb_id']+ ')')\n",
    "answers['9'] = '4. The Dark Knight (tt0468569)'"
   ]
  },
  {
   "cell_type": "markdown",
   "metadata": {
    "colab_type": "text",
    "id": "Zi4hDKidVp_F"
   },
   "source": [
    "# 10. Самый убыточный фильм за период с 2012 по 2014 г. (включительно)?\n"
   ]
  },
  {
   "cell_type": "code",
   "execution_count": 119,
   "metadata": {
    "colab": {},
    "colab_type": "code",
    "id": "XqyRmufJVp_F"
   },
   "outputs": [
    {
     "name": "stdout",
     "output_type": "stream",
     "text": [
      "1245    The Lone Ranger (tt1210819)\n",
      "dtype: object\n"
     ]
    }
   ],
   "source": [
    "pdata = data.copy()\n",
    "pdata['profit']=pdata['revenue']-pdata['budget']\n",
    "rdata = pdata[(pdata.release_year >= 2012) & (pdata.release_year <= 2014 )]\n",
    "mdata = rdata[rdata.profit == rdata.profit.min()]\n",
    "print((mdata['original_title'])+ ' ('+ mdata['imdb_id']+ ')')\n",
    "answers['10'] = '5. The Lone Ranger (tt1210819)'"
   ]
  },
  {
   "cell_type": "markdown",
   "metadata": {
    "colab_type": "text",
    "id": "EA7Sa9dkVp_I"
   },
   "source": [
    "# 11. Какого жанра фильмов больше всего?"
   ]
  },
  {
   "cell_type": "code",
   "execution_count": 120,
   "metadata": {
    "colab": {},
    "colab_type": "code",
    "id": "zsJAwJ8QVp_J"
   },
   "outputs": [],
   "source": [
    "# эту задачу тоже можно решать разными подходами, попробуй реализовать разные варианты\n",
    "# если будешь добавлять функцию - выноси ее в предобработку что в начале\n",
    "dd = data.genres.str.split('|') # колонку \n",
    "de = dd.sum()\n",
    "ds =pd.Series((v[:] for v in de))\n",
    "ds.value_counts().index[0]\n",
    "answers['11'] = '3. Drama'"
   ]
  },
  {
   "cell_type": "markdown",
   "metadata": {
    "colab_type": "text",
    "id": "Ax6g2C8SVp_M"
   },
   "source": [
    "ВАРИАНТ 2"
   ]
  },
  {
   "cell_type": "code",
   "execution_count": null,
   "metadata": {
    "colab": {},
    "colab_type": "code",
    "id": "otO3SbrSVp_N"
   },
   "outputs": [],
   "source": []
  },
  {
   "cell_type": "markdown",
   "metadata": {
    "colab_type": "text",
    "id": "T9_bPWpkVp_Q"
   },
   "source": [
    "# 12. Фильмы какого жанра чаще всего становятся прибыльными? "
   ]
  },
  {
   "cell_type": "code",
   "execution_count": 121,
   "metadata": {
    "colab": {},
    "colab_type": "code",
    "id": "Tmt8MaK1Vp_R"
   },
   "outputs": [],
   "source": [
    "data = pd.read_csv('movie_bd_v5.csv')\n",
    "pdata = data.copy()\n",
    "pdata['profit']=pdata['revenue']-pdata['budget']\n",
    "pdata['genres_all'] = pdata['genres'].str.split('|')\n",
    "pdata = pdata.explode('genres_all')\n",
    "profit_pdata = pdata[(pdata.profit > 0)]\n",
    "profit_pdata['genres_all'].value_counts(ascending=False).index[0]\n",
    "answers['12'] = '1. Drama'"
   ]
  },
  {
   "cell_type": "markdown",
   "metadata": {
    "colab_type": "text",
    "id": "0F23bgsDVp_U"
   },
   "source": [
    "# 13. У какого режиссера самые большие суммарные кассовые сборы?"
   ]
  },
  {
   "cell_type": "code",
   "execution_count": 122,
   "metadata": {
    "colab": {},
    "colab_type": "code",
    "id": "K6Z3J8ygVp_X"
   },
   "outputs": [],
   "source": [
    "data = pd.read_csv('movie_bd_v5.csv') #\n",
    "pdata = data.copy()                   #\n",
    "pdata['director'] = pdata['director'].str.split('|')\n",
    "pdata = pdata.explode('director')\n",
    "pdata.groupby(['director'])['revenue'].sum().sort_values(ascending=False).head(1)\n",
    "answers['13'] = '5. Peter Jackson'"
   ]
  },
  {
   "cell_type": "markdown",
   "metadata": {
    "colab_type": "text",
    "id": "PsYC9FgRVp_a"
   },
   "source": [
    "# 14. Какой режисер снял больше всего фильмов в стиле Action?"
   ]
  },
  {
   "cell_type": "code",
   "execution_count": 123,
   "metadata": {
    "colab": {},
    "colab_type": "code",
    "id": "wd2M-wHeVp_b"
   },
   "outputs": [],
   "source": [
    "data = pd.read_csv('movie_bd_v5.csv') #\n",
    "pdata = data[data.genres.str.contains('Action')].copy()                   #\n",
    "pdata['director'] = pdata['director'].str.split('|')\n",
    "pdata = pdata.explode('director')\n",
    "pdata.director.value_counts().index[0]\n",
    "answers['14'] = '3. Robert Rodriguez'"
   ]
  },
  {
   "cell_type": "markdown",
   "metadata": {
    "colab_type": "text",
    "id": "PQ0KciD7Vp_f"
   },
   "source": [
    "# 15. Фильмы с каким актером принесли самые высокие кассовые сборы в 2012 году? "
   ]
  },
  {
   "cell_type": "code",
   "execution_count": 124,
   "metadata": {
    "colab": {},
    "colab_type": "code",
    "id": "aga62oeKVp_g"
   },
   "outputs": [],
   "source": [
    "data = pd.read_csv('movie_bd_v5.csv') #\n",
    "pdata = data[data.release_year == 2012].copy()                   #\n",
    "pdata['cast'] = pdata['cast'].str.split('|')\n",
    "pdata = pdata.explode('cast')\n",
    "pdata.groupby('cast').revenue.sum().sort_values(ascending=False).index[0]\n",
    "answers['15'] = '3. Chris Hemsworth'\n"
   ]
  },
  {
   "cell_type": "markdown",
   "metadata": {
    "colab_type": "text",
    "id": "mWHyyL7QVp_j"
   },
   "source": [
    "# 16. Какой актер снялся в большем количестве высокобюджетных фильмов?"
   ]
  },
  {
   "cell_type": "code",
   "execution_count": 125,
   "metadata": {
    "colab": {},
    "colab_type": "code",
    "id": "qQtmHKTFVp_k"
   },
   "outputs": [],
   "source": [
    "data = pd.read_csv('movie_bd_v5.csv') #\n",
    "pd.Series(data[data.budget > data.budget.mean()].cast.str.split('|').sum()).value_counts().index[0]\n",
    "answers['16'] = '3. Matt Damon'"
   ]
  },
  {
   "cell_type": "markdown",
   "metadata": {
    "colab_type": "text",
    "id": "NIh6AaW5Vp_n"
   },
   "source": [
    "# 17. В фильмах какого жанра больше всего снимался Nicolas Cage? "
   ]
  },
  {
   "cell_type": "code",
   "execution_count": 126,
   "metadata": {
    "colab": {},
    "colab_type": "code",
    "id": "H74SJDIBVp_n"
   },
   "outputs": [],
   "source": [
    "data = pd.read_csv('movie_bd_v5.csv') #\n",
    "pdata = data.copy()                   #\n",
    "pdata['cast'] = pdata['cast'].str.split('|')\n",
    "pdata = pdata.explode('cast')\n",
    "pd.Series(pdata[pdata.cast == 'Nicolas Cage'].genres.str.split('|').sum()).value_counts().index[0]\n",
    "answers['17'] = '2. Action'"
   ]
  },
  {
   "cell_type": "markdown",
   "metadata": {
    "colab_type": "text",
    "id": "RqOmPRfWVp_q"
   },
   "source": [
    "# 18. Самый убыточный фильм от Paramount Pictures"
   ]
  },
  {
   "cell_type": "code",
   "execution_count": 127,
   "metadata": {
    "colab": {},
    "colab_type": "code",
    "id": "9E_B0Y96Vp_r"
   },
   "outputs": [
    {
     "name": "stdout",
     "output_type": "stream",
     "text": [
      "925    K-19: The Widowmaker (tt0267626)\n",
      "dtype: object\n"
     ]
    }
   ],
   "source": [
    "data = pd.read_csv('movie_bd_v5.csv')\n",
    "pdata = data[data.production_companies.str.contains('Paramount Pictures')].copy()\n",
    "pdata['profit']=pdata['revenue']-pdata['budget']\n",
    "rdata = pdata.sort_values(by = 'profit').head(1)\n",
    "print((rdata['original_title'])+ ' ('+ rdata['imdb_id']+ ')')\n",
    "answers['18'] = '1. K-19: The Widowmaker (tt0267626)'"
   ]
  },
  {
   "cell_type": "markdown",
   "metadata": {
    "colab_type": "text",
    "id": "vS8Ur6ddVp_u"
   },
   "source": [
    "# 19. Какой год стал самым успешным по суммарным кассовым сборам?"
   ]
  },
  {
   "cell_type": "code",
   "execution_count": 128,
   "metadata": {
    "colab": {},
    "colab_type": "code",
    "id": "Dnbt4GdIVp_v"
   },
   "outputs": [],
   "source": [
    "data = pd.read_csv('movie_bd_v5.csv') #\n",
    "pdata = data.copy() \n",
    "pdata.groupby('release_year').revenue.sum().sort_values(ascending=False).index[0]\n",
    "answers['19'] = '5. 2015'"
   ]
  },
  {
   "cell_type": "markdown",
   "metadata": {
    "colab_type": "text",
    "id": "JAzJh4QAVp_z"
   },
   "source": [
    "# 20. Какой самый прибыльный год для студии Warner Bros?"
   ]
  },
  {
   "cell_type": "code",
   "execution_count": 129,
   "metadata": {
    "colab": {},
    "colab_type": "code",
    "id": "wgVu02DEVp_0"
   },
   "outputs": [],
   "source": [
    "data = pd.read_csv('movie_bd_v5.csv')\n",
    "pdata = data[data.production_companies.str.contains('Warner Bros')].copy()\n",
    "pdata['profit']=pdata['revenue']-pdata['budget']\n",
    "pdata.groupby('release_year').profit.sum().sort_values(ascending=False).index[0]\n",
    "answers['20'] = '1. 2014'"
   ]
  },
  {
   "cell_type": "markdown",
   "metadata": {
    "colab_type": "text",
    "id": "8Im1S2HRVp_4"
   },
   "source": [
    "# 21. В каком месяце за все годы суммарно вышло больше всего фильмов?"
   ]
  },
  {
   "cell_type": "code",
   "execution_count": 142,
   "metadata": {
    "colab": {},
    "colab_type": "code",
    "id": "lev6TH7gVp_4"
   },
   "outputs": [],
   "source": [
    "data = pd.read_csv('movie_bd_v5.csv')\n",
    "data['release_date']=data['release_date'].str.split('/')\n",
    "data['months'] = data['release_date'].apply(lambda x: x[0]) \n",
    "data['months'].value_counts(ascending=False).index[0]\n",
    "answers['21'] = '4. Сентябрь'"
   ]
  },
  {
   "cell_type": "markdown",
   "metadata": {
    "colab_type": "text",
    "id": "uAJsZ_NeVp_7"
   },
   "source": [
    "# 22. Сколько суммарно вышло фильмов летом? (за июнь, июль, август)"
   ]
  },
  {
   "cell_type": "code",
   "execution_count": 143,
   "metadata": {
    "colab": {},
    "colab_type": "code",
    "id": "Aa-hEREoVp_8"
   },
   "outputs": [
    {
     "name": "stdout",
     "output_type": "stream",
     "text": [
      "450\n"
     ]
    }
   ],
   "source": [
    "data = pd.read_csv('movie_bd_v5.csv')\n",
    "data['release_date']=data['release_date'].str.split('/')\n",
    "data['months'] = data['release_date'].apply(lambda x: x[0]) \n",
    "months_df = data['months'].value_counts(ascending=False)\n",
    "print(months_df['6']+months_df['7']+months_df['8'])\n",
    "answers['22'] = '2. 450'"
   ]
  },
  {
   "cell_type": "markdown",
   "metadata": {
    "colab_type": "text",
    "id": "G94ppOY1VqAA"
   },
   "source": [
    "# 23. Для какого режиссера зима – самое продуктивное время года? "
   ]
  },
  {
   "cell_type": "code",
   "execution_count": 132,
   "metadata": {
    "colab": {},
    "colab_type": "code",
    "id": "RhNTsamuVqAB"
   },
   "outputs": [],
   "source": [
    "data = pd.read_csv('movie_bd_v5.csv')\n",
    "data['release_date']=data['release_date'].str.split('/')\n",
    "data['months'] = data['release_date'].apply(lambda x: x[0])\n",
    "pdata = data[((data.months == '1') | (data.months == '2') | (data.months == '12') )].copy()\n",
    "pdata['director'] = pdata['director'].str.split('|')\n",
    "pdata = pdata.explode('director')\n",
    "pdata.director.value_counts().index[0]\n",
    "answers['23'] = '5. Peter Jackson'"
   ]
  },
  {
   "cell_type": "markdown",
   "metadata": {
    "colab_type": "text",
    "id": "RBo0JVjVVqAF"
   },
   "source": [
    "# 24. Какая студия дает самые длинные названия своим фильмам по количеству символов?"
   ]
  },
  {
   "cell_type": "code",
   "execution_count": 133,
   "metadata": {
    "colab": {},
    "colab_type": "code",
    "id": "QRGS8L0iVqAG"
   },
   "outputs": [],
   "source": [
    "data = pd.read_csv('movie_bd_v5.csv')\n",
    "pdata = data.copy()\n",
    "pdata['title_len'] = pdata['original_title'].apply(lambda x: len(x))\n",
    "pdata['production_companies'] = pdata['production_companies'].apply(lambda x: x.split(sep = '|'))\n",
    "pdata = pdata.explode('production_companies')\n",
    "pdata.groupby(['production_companies'])['title_len'].mean().sort_values(ascending=False).index[0]\n",
    "answers['24'] = '5. Four By Two Productions'"
   ]
  },
  {
   "cell_type": "markdown",
   "metadata": {
    "colab_type": "text",
    "id": "9G0hbvR7VqAK"
   },
   "source": [
    "# 25. Описание фильмов какой студии в среднем самые длинные по количеству слов?"
   ]
  },
  {
   "cell_type": "code",
   "execution_count": 134,
   "metadata": {
    "colab": {},
    "colab_type": "code",
    "id": "Ge2GsLNxVqAK"
   },
   "outputs": [],
   "source": [
    "data = pd.read_csv('movie_bd_v5.csv')\n",
    "pdata = data.copy()\n",
    "pdata['overview'] = pdata['overview'].apply(lambda x: len(x))\n",
    "pdata['production_companies'] = pdata['production_companies'].apply(lambda x: x.split(sep = '|'))\n",
    "pdata = pdata.explode('production_companies')\n",
    "pdata.groupby(['production_companies'])['overview'].mean().sort_values(ascending=False)\n",
    "pdata[pdata.overview >= pdata.overview.mean()].production_companies.value_counts().index[0]\n",
    "answers['25'] = '1. Universal Pictures'"
   ]
  },
  {
   "cell_type": "markdown",
   "metadata": {
    "colab_type": "text",
    "id": "FJ1AFt90VqAP"
   },
   "source": [
    "# 26. Какие фильмы входят в 1 процент лучших по рейтингу? \n",
    "по vote_average"
   ]
  },
  {
   "cell_type": "code",
   "execution_count": 135,
   "metadata": {
    "colab": {},
    "colab_type": "code",
    "id": "8qmJVq4CVqAQ"
   },
   "outputs": [],
   "source": [
    "data = pd.read_csv('movie_bd_v5.csv')\n",
    "data[data[\"vote_average\"] > (data[\"vote_average\"].quantile(0.99))].original_title\n",
    "answers['26'] = '1. Inside Out, The Dark Knight, 12 Years a Slave'"
   ]
  },
  {
   "cell_type": "markdown",
   "metadata": {
    "colab_type": "text",
    "id": "MdXsUXbCVqAV"
   },
   "source": [
    "# 27. Какие актеры чаще всего снимаются в одном фильме вместе?\n"
   ]
  },
  {
   "cell_type": "code",
   "execution_count": 145,
   "metadata": {
    "colab_type": "text",
    "id": "4ymnxEVoVqAW"
   },
   "outputs": [],
   "source": [
    "import numpy as np\n",
    "import pandas as pd\n",
    "import seaborn as sns\n",
    "import matplotlib.pyplot as plt\n",
    "import collections\n",
    "from itertools import combinations\n",
    "from collections import Counter\n",
    "data = pd.read_csv('movie_bd_v5.csv')\n",
    "pdata = data.copy()\n",
    "pdata['cast'] = pdata['cast'].apply(lambda x:x.split('|'))\n",
    "pdata['combine'] = pdata['cast'].apply(lambda s: list(combinations(s, 2)))\n",
    "pdata = pdata.explode('combine')\n",
    "collections.Counter(pdata['combine']).most_common(5)\n",
    "answers['27'] = '5. Daniel Radcliffe & Rupert Grint'"
   ]
  },
  {
   "cell_type": "markdown",
   "metadata": {
    "colab_type": "text",
    "id": "U0nONFnGVqAX"
   },
   "source": [
    "# Submission"
   ]
  },
  {
   "cell_type": "code",
   "execution_count": 150,
   "metadata": {
    "colab": {},
    "colab_type": "code",
    "id": "IfcaRO9-VqAX",
    "outputId": "0f132912-32bb-4196-c98c-abfbc4ad5a5f"
   },
   "outputs": [
    {
     "data": {
      "text/plain": [
       "{'1': '5. Pirates of the Caribbean: On Stranger Tides (tt1298650)',\n",
       " '2': '2. Gods and Generals (tt0279111)',\n",
       " '3': '3. Winnie the Pooh (tt1449283)',\n",
       " '4': '1. 107',\n",
       " '6': '5. Avatar (tt0499549)',\n",
       " '7': '5. The Lone Ranger (tt1210819)',\n",
       " '8': '1. 1478',\n",
       " '9': '4. The Dark Knight (tt0468569)',\n",
       " '10': '5. The Lone Ranger (tt1210819)',\n",
       " '11': '3. Drama',\n",
       " '12': '1. Drama',\n",
       " '13': '5. Peter Jackson',\n",
       " '14': '3. Robert Rodriguez',\n",
       " '15': '3. Chris Hemsworth',\n",
       " '16': '3. Matt Damon',\n",
       " '17': '2. Action',\n",
       " '18': '1. K-19: The Widowmaker (tt0267626)',\n",
       " '19': '5. 2015',\n",
       " '20': '1. 2014',\n",
       " '22': '2. 450',\n",
       " '23': '5. Peter Jackson',\n",
       " '24': '5. Four By Two Productions',\n",
       " '25': '1. Universal Pictures',\n",
       " '26': '1. Inside Out, The Dark Knight, 12 Years a Slave',\n",
       " '21': '4. Сентябрь',\n",
       " '27': '5. Daniel Radcliffe & Rupert Grint',\n",
       " '5': '1. 107'}"
      ]
     },
     "execution_count": 150,
     "metadata": {},
     "output_type": "execute_result"
    }
   ],
   "source": [
    "# в конце можно посмотреть свои ответы к каждому вопросу\n",
    "answers"
   ]
  },
  {
   "cell_type": "code",
   "execution_count": 151,
   "metadata": {
    "colab": {},
    "colab_type": "code",
    "id": "SiRmHPl8VqAd"
   },
   "outputs": [
    {
     "data": {
      "text/plain": [
       "27"
      ]
     },
     "execution_count": 151,
     "metadata": {},
     "output_type": "execute_result"
    }
   ],
   "source": [
    "# и убедиться что ни чего не пропустил)\n",
    "len(answers)"
   ]
  },
  {
   "cell_type": "code",
   "execution_count": 0,
   "metadata": {
    "colab": {},
    "colab_type": "code",
    "id": "uCfuTkRbVqAg"
   },
   "outputs": [],
   "source": []
  },
  {
   "cell_type": "code",
   "execution_count": 0,
   "metadata": {
    "colab": {},
    "colab_type": "code",
    "id": "Vwx3NrkSVqAl"
   },
   "outputs": [],
   "source": []
  }
 ],
 "metadata": {
  "colab": {
   "name": "Copy of [SF-DST] Movies IMBD v4.1 TEMPLATE.ipynb",
   "provenance": []
  },
  "kernelspec": {
   "display_name": "Python 3",
   "language": "python",
   "name": "python3"
  },
  "language_info": {
   "codemirror_mode": {
    "name": "ipython",
    "version": 3
   },
   "file_extension": ".py",
   "mimetype": "text/x-python",
   "name": "python",
   "nbconvert_exporter": "python",
   "pygments_lexer": "ipython3",
   "version": "3.8.3"
  }
 },
 "nbformat": 4,
 "nbformat_minor": 1
}
